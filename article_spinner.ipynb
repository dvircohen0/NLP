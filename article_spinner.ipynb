{
  "nbformat": 4,
  "nbformat_minor": 0,
  "metadata": {
    "colab": {
      "name": "Untitled4.ipynb",
      "provenance": [],
      "authorship_tag": "ABX9TyPIuUBApatcKvBacmTayR5U",
      "include_colab_link": true
    },
    "kernelspec": {
      "name": "python3",
      "display_name": "Python 3"
    }
  },
  "cells": [
    {
      "cell_type": "markdown",
      "metadata": {
        "id": "view-in-github",
        "colab_type": "text"
      },
      "source": [
        "<a href=\"https://colab.research.google.com/github/dvircohen0/NLP/blob/main/article_spinner.ipynb\" target=\"_parent\"><img src=\"https://colab.research.google.com/assets/colab-badge.svg\" alt=\"Open In Colab\"/></a>"
      ]
    },
    {
      "cell_type": "code",
      "metadata": {
        "id": "0BxlRmLO6hWM",
        "outputId": "4a638c2f-0166-465d-c7bc-2a6f586cd2e8",
        "colab": {
          "base_uri": "https://localhost:8080/"
        }
      },
      "source": [
        "import nltk\n",
        "import numpy as np\n",
        "from nltk.stem import WordNetLemmatizer\n",
        "from sklearn.linear_model import LogisticRegression\n",
        "from sklearn.ensemble import RandomForestClassifier, AdaBoostClassifier\n",
        "from sklearn.naive_bayes import MultinomialNB\n",
        "from sklearn.neural_network import MLPClassifier\n",
        "from sklearn import svm\n",
        "from bs4 import BeautifulSoup\n",
        "from nltk.corpus import stopwords\n",
        "from sklearn.model_selection import train_test_split\n",
        "import re \n",
        "import random\n",
        "import textwrap\n",
        "nltk.download('punkt')"
      ],
      "execution_count": 12,
      "outputs": [
        {
          "output_type": "stream",
          "text": [
            "[nltk_data] Downloading package punkt to /root/nltk_data...\n",
            "[nltk_data]   Package punkt is already up-to-date!\n"
          ],
          "name": "stdout"
        },
        {
          "output_type": "execute_result",
          "data": {
            "text/plain": [
              "True"
            ]
          },
          "metadata": {
            "tags": []
          },
          "execution_count": 12
        }
      ]
    },
    {
      "cell_type": "code",
      "metadata": {
        "id": "cI3y3KQrRuCd",
        "outputId": "a256cda2-6e59-46ed-dd00-5c07896ecd46",
        "colab": {
          "base_uri": "https://localhost:8080/"
        }
      },
      "source": [
        "!wget https://raw.githubusercontent.com/AmirYunus/py_sentiment_analysis/9f0a92edc228d6af49f9bbeb66dcc80e8b412e29/electronics/positive.review\n",
        "\n",
        "positive_reviews=[]\n",
        "pos_rev =  BeautifulSoup(open('/content/positive.review').read())\n",
        "for p in pos_rev.findAll('review_text'):\n",
        "  positive_reviews.append(p.text.strip())"
      ],
      "execution_count": 3,
      "outputs": [
        {
          "output_type": "stream",
          "text": [
            "--2021-05-19 10:59:06--  https://raw.githubusercontent.com/AmirYunus/py_sentiment_analysis/9f0a92edc228d6af49f9bbeb66dcc80e8b412e29/electronics/positive.review\n",
            "Resolving raw.githubusercontent.com (raw.githubusercontent.com)... 185.199.108.133, 185.199.109.133, 185.199.110.133, ...\n",
            "Connecting to raw.githubusercontent.com (raw.githubusercontent.com)|185.199.108.133|:443... connected.\n",
            "HTTP request sent, awaiting response... 200 OK\n",
            "Length: 1105010 (1.1M) [text/plain]\n",
            "Saving to: ‘positive.review’\n",
            "\n",
            "positive.review     100%[===================>]   1.05M  --.-KB/s    in 0.06s   \n",
            "\n",
            "2021-05-19 10:59:06 (16.6 MB/s) - ‘positive.review’ saved [1105010/1105010]\n",
            "\n"
          ],
          "name": "stdout"
        }
      ]
    },
    {
      "cell_type": "code",
      "metadata": {
        "id": "I3L3Tvr1SESQ"
      },
      "source": [
        "def random_sample(d):\n",
        "    r = random.random()\n",
        "    cumulative = 0\n",
        "    for w, p in d.items():\n",
        "        cumulative += p\n",
        "        if r <   cumulative:\n",
        "            return w"
      ],
      "execution_count": 10,
      "outputs": []
    },
    {
      "cell_type": "code",
      "metadata": {
        "id": "xOHBpTpd6nN2"
      },
      "source": [
        "Word_lemmatizer = WordNetLemmatizer()\n",
        "\n",
        "trigram ={}\n",
        "for review in positive_reviews:\n",
        "    s=review.lower()\n",
        "    tokens = nltk.tokenize.word_tokenize(s)\n",
        "    for i in range(1, len(tokens)-1):\n",
        "        if (tokens[i-1] , tokens[i+1]) in trigram:\n",
        "            if  tokens[i] in trigram[(tokens[i-1] , tokens[i+1])]:\n",
        "                trigram[(tokens[i-1] , tokens[i+1])][tokens[i]] += 1\n",
        "            else: trigram[(tokens[i-1] , tokens[i+1])][tokens[i]] = 1\n",
        "        else: trigram[(tokens[i-1] , tokens[i+1])] = {tokens[i] : 1}\n",
        "            \n",
        "\n",
        "for key  in list(trigram.keys()):\n",
        "    if len(trigram[key]) > 1:\n",
        "        factor = 1/sum(trigram[key].values())\n",
        "        for t in list(trigram[key].keys()):\n",
        "            trigram[key][t]*=factor    \n",
        "    else: del(trigram[key])"
      ],
      "execution_count": 11,
      "outputs": []
    },
    {
      "cell_type": "code",
      "metadata": {
        "id": "ZLAjFcQL5jMq"
      },
      "source": [
        "def test_spinner():\n",
        "    review = random.choice(positive_reviews)\n",
        "    s = review.lower()\n",
        "    print(\"Original: \\n\",\"\\n\",\"\\n\".join(textwrap.wrap(s,70))+\"\\n\")\n",
        "    tokens = nltk.tokenize.word_tokenize(s)\n",
        "    for i in range(1, len(tokens)-1):\n",
        "        if random.random() < 0.2: # 20% chance of replacement\n",
        "            k = (tokens[i-1], tokens[i+1])\n",
        "            if k in trigram:\n",
        "                w = random_sample(trigram[k])\n",
        "                tokens[i] = w\n",
        "\n",
        "    spun_msg=\" \".join(tokens).replace(\" .\", \".\").replace(\" '\", \"'\").replace(\" ,\", \",\").replace(\"$ \", \"$\").replace(\" !\", \"!\")\n",
        "    print(\"Spun: \\n\",\"\\n\",\"\\n\".join(textwrap.wrap(spun_msg,70))+\"\\n\")  \n",
        "    "
      ],
      "execution_count": 55,
      "outputs": []
    },
    {
      "cell_type": "code",
      "metadata": {
        "id": "62MGWDX6UkGz",
        "outputId": "7f945dfa-8138-4a5b-c973-ca67b33186cb",
        "colab": {
          "base_uri": "https://localhost:8080/",
          "height": 34
        }
      },
      "source": [
        "from IPython.display import HTML as html_print\n",
        "\n",
        "def cstr(s, color='black'):\n",
        "    return \"<text style=color:{}>{}</text>\".format(color, s)\n",
        "\n",
        "left, word, right = 'foo' , 'abc' , 'bar'\n",
        "html_print(cstr(' '.join([left, cstr(word, color='red'), right]), color='black') )"
      ],
      "execution_count": 35,
      "outputs": [
        {
          "output_type": "execute_result",
          "data": {
            "text/html": [
              "<text style=color:black>foo <text style=color:red>abc</text> bar</text>"
            ],
            "text/plain": [
              "<IPython.core.display.HTML object>"
            ]
          },
          "metadata": {
            "tags": []
          },
          "execution_count": 35
        }
      ]
    },
    {
      "cell_type": "code",
      "metadata": {
        "id": "fcP8JnzmUr79",
        "outputId": "1d4558a3-c8d5-4839-f321-0da884b6e6ee",
        "colab": {
          "base_uri": "https://localhost:8080/",
          "height": 51
        }
      },
      "source": [
        "from IPython.display import HTML as html_print\n",
        "from IPython.display import display\n",
        "\n",
        "def cstr(s, color='black'):\n",
        "    return \"<text style=color:{}>{}</text>\".format(color, s)\n",
        "\n",
        "def print_color(t):\n",
        "    display(html_print(' '.join([cstr(ti, color=ci) for ti,ci in t])))\n",
        "\n",
        "print_color((('hello my name is', 'black'),('jhjfd','red')))\n",
        "print_color((('hello my name is', 'green'),))"
      ],
      "execution_count": 54,
      "outputs": [
        {
          "output_type": "display_data",
          "data": {
            "text/html": [
              "<text style=color:black>hello my name is</text> <text style=color:red>jhjfd</text>"
            ],
            "text/plain": [
              "<IPython.core.display.HTML object>"
            ]
          },
          "metadata": {
            "tags": []
          }
        },
        {
          "output_type": "display_data",
          "data": {
            "text/html": [
              "<text style=color:green>hello my name is</text>"
            ],
            "text/plain": [
              "<IPython.core.display.HTML object>"
            ]
          },
          "metadata": {
            "tags": []
          }
        }
      ]
    },
    {
      "cell_type": "code",
      "metadata": {
        "id": "v0klROAwejSj"
      },
      "source": [
        "def test_spinner():\n",
        "    review = random.choice(positive_reviews)\n",
        "    s = review.lower()\n",
        "    tokens = nltk.tokenize.word_tokenize(s)\n",
        "\n",
        "    colored_true=[0]*len(tokens)\n",
        "    colored_true[0] = (tokens[0],'black')\n",
        "    colored_true[-1] = (tokens[-1],'black')\n",
        "\n",
        "    colored_pred=[0]*len(tokens)\n",
        "    colored_pred[0] = (tokens[0],'black')\n",
        "    colored_pred[-1] = (tokens[-1],'black')\n",
        "\n",
        "    for i in range(1, len(tokens)-1):\n",
        "        colored_pred[i]=(tokens[i],'black')\n",
        "        colored_true[i]=(tokens[i],'black')\n",
        "        if random.random() < 0.2: # 20% chance of replacement\n",
        "            k = (tokens[i-1], tokens[i+1])\n",
        "            if k in trigram:\n",
        "\n",
        "                colored_true[i] = (tokens[i],'red')\n",
        "                w = random_sample(trigram[k])\n",
        "                tokens[i] = w\n",
        "                colored_pred[i] = (w,'red')\n",
        "                \n",
        "    print(\"Original text: \\n\")\n",
        "    print_color(colored_true)\n",
        "    print(\"\\n Spun text: \\n\")\n",
        "    print_color(colored_pred)\n",
        "    \n"
      ],
      "execution_count": 114,
      "outputs": []
    },
    {
      "cell_type": "code",
      "metadata": {
        "colab": {
          "base_uri": "https://localhost:8080/",
          "height": 238
        },
        "id": "4pCuXGxQ6QBt",
        "outputId": "637fb9a2-26c3-4712-9a23-3341b3e041ed"
      },
      "source": [
        "test_spinner()"
      ],
      "execution_count": 118,
      "outputs": [
        {
          "output_type": "stream",
          "text": [
            "Original text: \n",
            "\n"
          ],
          "name": "stdout"
        },
        {
          "output_type": "display_data",
          "data": {
            "text/html": [
              "<text style=color:black>these</text> <text style=color:black>speakers</text> <text style=color:black>are</text> <text style=color:black>not</text> <text style=color:red>what</text> <text style=color:black>i</text> <text style=color:red>had</text> <text style=color:black>expected</text> <text style=color:black>from</text> <text style=color:black>their</text> <text style=color:black>size</text> <text style=color:black>,</text> <text style=color:black>price</text> <text style=color:black>,</text> <text style=color:black>and</text> <text style=color:black>looks</text> <text style=color:black>.</text> <text style=color:red>their</text> <text style=color:red>quality</text> <text style=color:black>,</text> <text style=color:black>even</text> <text style=color:black>at</text> <text style=color:red>high</text> <text style=color:black>volumes</text> <text style=color:black>,</text> <text style=color:black>exceeds</text> <text style=color:black>many</text> <text style=color:black>other</text> <text style=color:black>speakers</text> <text style=color:black>i</text> <text style=color:black>'ve</text> <text style=color:black>seen</text> <text style=color:black>at</text> <text style=color:black>double</text> <text style=color:black>the</text> <text style=color:black>price</text> <text style=color:black>tag</text> <text style=color:black>.</text> <text style=color:red>the</text> <text style=color:black>reason</text> <text style=color:black>i</text> <text style=color:black>bought</text> <text style=color:black>these</text> <text style=color:black>was</text> <text style=color:black>because</text> <text style=color:black>of</text> <text style=color:black>the</text> <text style=color:black>other</text> <text style=color:red>reviews</text> <text style=color:red>and</text> <text style=color:black>the</text> <text style=color:black>size</text> <text style=color:black>.</text> <text style=color:black>another</text> <text style=color:black>reason</text> <text style=color:red>was</text> <text style=color:black>the</text> <text style=color:black>proposed</text> <text style=color:black>battery</text> <text style=color:black>life</text> <text style=color:black>,</text> <text style=color:black>35</text> <text style=color:black>hours</text> <text style=color:black>on</text> <text style=color:black>4</text> <text style=color:black>aaa</text> <text style=color:black>batteries</text> <text style=color:black>,</text> <text style=color:black>not</text> <text style=color:red>bad</text> <text style=color:black>at</text> <text style=color:black>all</text> <text style=color:black>.</text> <text style=color:black>so</text> <text style=color:black>far</text> <text style=color:black>its</text> <text style=color:black>been</text> <text style=color:black>very</text> <text style=color:red>close</text> <text style=color:black>.</text> <text style=color:black>i</text> <text style=color:black>have</text> <text style=color:black>heard</text> <text style=color:black>the</text> <text style=color:black>other</text> <text style=color:black>speaker</text> <text style=color:black>(</text> <text style=color:red>systems</text> <text style=color:black>)</text> <text style=color:black>and</text> <text style=color:black>yes</text> <text style=color:black>the</text> <text style=color:black>jbl</text> <text style=color:black>onstage</text> <text style=color:black>and</text> <text style=color:black>the</text> <text style=color:black>bose</text> <text style=color:black>sounddock</text> <text style=color:black>are</text> <text style=color:black>both</text> <text style=color:black>very</text> <text style=color:black>good</text> <text style=color:black>and</text> <text style=color:black>do</text> <text style=color:black>live</text> <text style=color:black>up</text> <text style=color:black>to</text> <text style=color:black>their</text> <text style=color:black>reputations</text> <text style=color:black>,</text> <text style=color:black>but</text> <text style=color:black>your</text> <text style=color:red>stuck</text> <text style=color:black>with</text> <text style=color:black>using</text> <text style=color:black>them</text> <text style=color:black>only</text> <text style=color:black>when</text> <text style=color:black>there</text> <text style=color:black>is</text> <text style=color:black>an</text> <text style=color:black>outlet</text> <text style=color:black>nearby</text>"
            ],
            "text/plain": [
              "<IPython.core.display.HTML object>"
            ]
          },
          "metadata": {
            "tags": []
          }
        },
        {
          "output_type": "stream",
          "text": [
            "\n",
            " Spun text: \n",
            "\n"
          ],
          "name": "stdout"
        },
        {
          "output_type": "display_data",
          "data": {
            "text/html": [
              "<text style=color:black>these</text> <text style=color:black>speakers</text> <text style=color:black>are</text> <text style=color:black>not</text> <text style=color:red>why</text> <text style=color:black>i</text> <text style=color:red>had</text> <text style=color:black>expected</text> <text style=color:black>from</text> <text style=color:black>their</text> <text style=color:black>size</text> <text style=color:black>,</text> <text style=color:black>price</text> <text style=color:black>,</text> <text style=color:black>and</text> <text style=color:black>looks</text> <text style=color:black>.</text> <text style=color:red>great</text> <text style=color:red>buy</text> <text style=color:black>,</text> <text style=color:black>even</text> <text style=color:black>at</text> <text style=color:red>low</text> <text style=color:black>volumes</text> <text style=color:black>,</text> <text style=color:black>exceeds</text> <text style=color:black>many</text> <text style=color:black>other</text> <text style=color:black>speakers</text> <text style=color:black>i</text> <text style=color:black>'ve</text> <text style=color:black>seen</text> <text style=color:black>at</text> <text style=color:black>double</text> <text style=color:black>the</text> <text style=color:black>price</text> <text style=color:black>tag</text> <text style=color:black>.</text> <text style=color:red>the</text> <text style=color:black>reason</text> <text style=color:black>i</text> <text style=color:black>bought</text> <text style=color:black>these</text> <text style=color:black>was</text> <text style=color:black>because</text> <text style=color:black>of</text> <text style=color:black>the</text> <text style=color:black>other</text> <text style=color:red>reviews</text> <text style=color:red>and</text> <text style=color:black>the</text> <text style=color:black>size</text> <text style=color:black>.</text> <text style=color:black>another</text> <text style=color:black>reason</text> <text style=color:red>was</text> <text style=color:black>the</text> <text style=color:black>proposed</text> <text style=color:black>battery</text> <text style=color:black>life</text> <text style=color:black>,</text> <text style=color:black>35</text> <text style=color:black>hours</text> <text style=color:black>on</text> <text style=color:black>4</text> <text style=color:black>aaa</text> <text style=color:black>batteries</text> <text style=color:black>,</text> <text style=color:black>not</text> <text style=color:red>shiny</text> <text style=color:black>at</text> <text style=color:black>all</text> <text style=color:black>.</text> <text style=color:black>so</text> <text style=color:black>far</text> <text style=color:black>its</text> <text style=color:black>been</text> <text style=color:black>very</text> <text style=color:red>easy</text> <text style=color:black>.</text> <text style=color:black>i</text> <text style=color:black>have</text> <text style=color:black>heard</text> <text style=color:black>the</text> <text style=color:black>other</text> <text style=color:black>speaker</text> <text style=color:black>(</text> <text style=color:red>powerbook</text> <text style=color:black>)</text> <text style=color:black>and</text> <text style=color:black>yes</text> <text style=color:black>the</text> <text style=color:black>jbl</text> <text style=color:black>onstage</text> <text style=color:black>and</text> <text style=color:black>the</text> <text style=color:black>bose</text> <text style=color:black>sounddock</text> <text style=color:black>are</text> <text style=color:black>both</text> <text style=color:black>very</text> <text style=color:black>good</text> <text style=color:black>and</text> <text style=color:black>do</text> <text style=color:black>live</text> <text style=color:black>up</text> <text style=color:black>to</text> <text style=color:black>their</text> <text style=color:black>reputations</text> <text style=color:black>,</text> <text style=color:black>but</text> <text style=color:black>your</text> <text style=color:red>lens</text> <text style=color:black>with</text> <text style=color:black>using</text> <text style=color:black>them</text> <text style=color:black>only</text> <text style=color:black>when</text> <text style=color:black>there</text> <text style=color:black>is</text> <text style=color:black>an</text> <text style=color:black>outlet</text> <text style=color:black>nearby</text>"
            ],
            "text/plain": [
              "<IPython.core.display.HTML object>"
            ]
          },
          "metadata": {
            "tags": []
          }
        }
      ]
    }
  ]
}