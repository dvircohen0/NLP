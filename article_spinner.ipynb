{
  "nbformat": 4,
  "nbformat_minor": 0,
  "metadata": {
    "colab": {
      "name": "Untitled4.ipynb",
      "provenance": [],
      "authorship_tag": "ABX9TyP7bkpIn5CrlOv9G2GkMunW",
      "include_colab_link": true
    },
    "kernelspec": {
      "name": "python3",
      "display_name": "Python 3"
    }
  },
  "cells": [
    {
      "cell_type": "markdown",
      "metadata": {
        "id": "view-in-github",
        "colab_type": "text"
      },
      "source": [
        "<a href=\"https://colab.research.google.com/github/dvircohen0/NLP/blob/main/article_spinner.ipynb\" target=\"_parent\"><img src=\"https://colab.research.google.com/assets/colab-badge.svg\" alt=\"Open In Colab\"/></a>"
      ]
    },
    {
      "cell_type": "code",
      "metadata": {
        "id": "0BxlRmLO6hWM"
      },
      "source": [
        "import nltk\r\n",
        "import numpy as np\r\n",
        "from nltk.stem import WordNetLemmatizer\r\n",
        "from sklearn.linear_model import LogisticRegression\r\n",
        "from sklearn.ensemble import RandomForestClassifier, AdaBoostClassifier\r\n",
        "from sklearn.naive_bayes import MultinomialNB\r\n",
        "from sklearn.neural_network import MLPClassifier\r\n",
        "from sklearn import svm\r\n",
        "from bs4 import BeautifulSoup\r\n",
        "from nltk.corpus import stopwords\r\n",
        "from sklearn.model_selection import train_test_split\r\n",
        "import re \r\n",
        "import random\r\n",
        "nltk.download('punkt')"
      ],
      "execution_count": null,
      "outputs": []
    },
    {
      "cell_type": "code",
      "metadata": {
        "id": "xOHBpTpd6nN2"
      },
      "source": [
        "positive_reviews =  BeautifulSoup(open(\"positive.review\").read())\r\n",
        "positive_reviews =  positive_reviews.findAll('review_text')\r\n",
        "Word_lemmatizer = WordNetLemmatizer()\r\n",
        "\r\n",
        "trigram ={}\r\n",
        "for review in positive_reviews:\r\n",
        "    s=review.text.lower()\r\n",
        "    tokens = nltk.tokenize.word_tokenize(s)\r\n",
        "    for i in range(1, len(tokens)-1):\r\n",
        "        if (tokens[i-1] , tokens[i+1]) in trigram:\r\n",
        "            if  tokens[i] in trigram[(tokens[i-1] , tokens[i+1])]:\r\n",
        "                trigram[(tokens[i-1] , tokens[i+1])][tokens[i]] += 1\r\n",
        "            else: trigram[(tokens[i-1] , tokens[i+1])][tokens[i]] = 1\r\n",
        "        else: trigram[(tokens[i-1] , tokens[i+1])] = {tokens[i] : 1}\r\n",
        "            \r\n",
        "\r\n",
        "for key  in list(trigram.keys()):\r\n",
        "    if len(trigram[key]) > 1:\r\n",
        "        factor = 1/sum(trigram[key].values())\r\n",
        "        for t in list(trigram[key].keys()):\r\n",
        "            trigram[key][t]*=factor    \r\n",
        "    else: del(trigram[key])\r\n",
        "\r\n",
        "def random_sample(d):\r\n",
        "    r = random.random()\r\n",
        "    cumulative = 0\r\n",
        "    for w, p in d.items():\r\n",
        "        cumulative += p\r\n",
        "        if r <   cumulative:\r\n",
        "            return w"
      ],
      "execution_count": null,
      "outputs": []
    },
    {
      "cell_type": "code",
      "metadata": {
        "colab": {
          "base_uri": "https://localhost:8080/"
        },
        "id": "ZLAjFcQL5jMq",
        "outputId": "5952e9f5-6c00-4a3b-843c-22f3e48302c3"
      },
      "source": [
        "def test_spinner():\r\n",
        "    review = random.choice(positive_reviews)\r\n",
        "    s = review.text.lower()\r\n",
        "    print(\"Original:\", s)\r\n",
        "    tokens = nltk.tokenize.word_tokenize(s)\r\n",
        "    for i in range(1, len(tokens)-1):\r\n",
        "        if random.random() < 0.2: # 20% chance of replacement\r\n",
        "            k = (tokens[i-1], tokens[i+1])\r\n",
        "            if k in trigram:\r\n",
        "                w = random_sample(trigram[k])\r\n",
        "                tokens[i] = w\r\n",
        "    print(\"Spun:\")\r\n",
        "    print(\" \".join(tokens).replace(\" .\", \".\").replace(\" '\", \"'\").replace(\" ,\", \",\").replace(\"$ \", \"$\").replace(\" !\", \"!\"))\r\n",
        "    "
      ],
      "execution_count": 2,
      "outputs": [
        {
          "output_type": "stream",
          "text": [
            "[nltk_data] Downloading package punkt to /root/nltk_data...\n",
            "[nltk_data]   Unzipping tokenizers/punkt.zip.\n"
          ],
          "name": "stdout"
        }
      ]
    },
    {
      "cell_type": "code",
      "metadata": {
        "colab": {
          "base_uri": "https://localhost:8080/"
        },
        "id": "4pCuXGxQ6QBt",
        "outputId": "8b1cc197-092d-4eb3-de45-708c0547502b"
      },
      "source": [
        "test_spinner()"
      ],
      "execution_count": 4,
      "outputs": [
        {
          "output_type": "stream",
          "text": [
            "Original: \n",
            "i'm using monster optical cable as well, but with different reasons behind. anybody with a basic knowledge of physics or optics should know that under normal condition light is not susceptible to interference from  magnetic field or emf\n",
            "\n",
            "Spun:\n",
            "i'm using monster optical cable as well, but with different reasons behind. also have a basic knowledge of physics or optics should know that under normal condition light is not susceptible to go from magnetic field or emf\n"
          ],
          "name": "stdout"
        }
      ]
    }
  ]
}