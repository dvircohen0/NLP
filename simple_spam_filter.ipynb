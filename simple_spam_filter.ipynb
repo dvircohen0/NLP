{
  "nbformat": 4,
  "nbformat_minor": 0,
  "metadata": {
    "colab": {
      "name": "simple_spam_filter.ipynb",
      "provenance": [],
      "authorship_tag": "ABX9TyNQyh3qzs+/2Z/jg10H9pIF",
      "include_colab_link": true
    },
    "kernelspec": {
      "name": "python3",
      "display_name": "Python 3"
    }
  },
  "cells": [
    {
      "cell_type": "markdown",
      "metadata": {
        "id": "view-in-github",
        "colab_type": "text"
      },
      "source": [
        "<a href=\"https://colab.research.google.com/github/dvircohen0/NLP/blob/main/simple_spam_filter.ipynb\" target=\"_parent\"><img src=\"https://colab.research.google.com/assets/colab-badge.svg\" alt=\"Open In Colab\"/></a>"
      ]
    },
    {
      "cell_type": "code",
      "metadata": {
        "colab": {
          "base_uri": "https://localhost:8080/"
        },
        "id": "ZA5MVhJV9_gO",
        "outputId": "74b14ea5-b200-4283-c09b-252112ff959e"
      },
      "source": [
        "from sklearn.naive_bayes import MultinomialNB\r\n",
        "from sklearn.ensemble import AdaBoostClassifier\r\n",
        "import pandas as pd\r\n",
        "import numpy as np\r\n",
        "from sklearn.model_selection import train_test_split\r\n",
        "\r\n",
        "data = pd.read_csv(\"spambase.data\").to_numpy()\r\n",
        "np.random.shuffle(data)\r\n",
        " \r\n",
        "features = data[:,:-1]\r\n",
        "labels = data[:,-1]\r\n",
        "\r\n",
        "X_train, X_test, y_train, y_test = train_test_split(\r\n",
        "    features, labels, test_size=0.02173, random_state=42)\r\n",
        "\r\n",
        "NB_model = MultinomialNB()\r\n",
        "NB_model.fit(X_train,y_train)\r\n",
        "\r\n",
        "print(\"Classification rate for Naive bayes: \", NB_model.score(X_test,y_test))\r\n",
        "\r\n",
        "AB_model = AdaBoostClassifier()\r\n",
        "AB_model.fit(X_train,y_train)\r\n",
        "\r\n",
        "print(\"Classification rate for AdaBoost: \", AB_model.score(X_test,y_test)) \r\n"
      ],
      "execution_count": 1,
      "outputs": [
        {
          "output_type": "stream",
          "text": [
            "Classification rate for Naive bayes:  0.83\n",
            "Classification rate for AdaBoost:  0.91\n"
          ],
          "name": "stdout"
        }
      ]
    }
  ]
}