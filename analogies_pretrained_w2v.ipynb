{
  "nbformat": 4,
  "nbformat_minor": 0,
  "metadata": {
    "colab": {
      "name": "analogies_pretrained_w2v.ipynb",
      "provenance": [],
      "authorship_tag": "ABX9TyPqyHUFP+S1s7kYVk9Tv4D1",
      "include_colab_link": true
    },
    "kernelspec": {
      "name": "python3",
      "display_name": "Python 3"
    },
    "accelerator": "GPU"
  },
  "cells": [
    {
      "cell_type": "markdown",
      "metadata": {
        "id": "view-in-github",
        "colab_type": "text"
      },
      "source": [
        "<a href=\"https://colab.research.google.com/github/dvircohen0/NLP/blob/main/analogies_pretrained_w2v.ipynb\" target=\"_parent\"><img src=\"https://colab.research.google.com/assets/colab-badge.svg\" alt=\"Open In Colab\"/></a>"
      ]
    },
    {
      "cell_type": "markdown",
      "metadata": {
        "id": "vxgdEdJz2LDa"
      },
      "source": [
        "### **Download Google's word2vector model from Kaggle**"
      ]
    },
    {
      "cell_type": "code",
      "metadata": {
        "id": "K4Qe0QOFzcao"
      },
      "source": [
        "from google.colab import files \n",
        "files.upload()"
      ],
      "execution_count": null,
      "outputs": []
    },
    {
      "cell_type": "code",
      "metadata": {
        "id": "KKXvJJaqwSjq"
      },
      "source": [
        "!mkdir -p ~/.kaggle\n",
        "!cp kaggle.json ~/.kaggle/\n",
        "!chmod 600 ~/.kaggle/kaggle.json"
      ],
      "execution_count": null,
      "outputs": []
    },
    {
      "cell_type": "code",
      "metadata": {
        "colab": {
          "base_uri": "https://localhost:8080/"
        },
        "id": "Q0IT3I6wwT_o",
        "outputId": "8b6258fd-f809-4cd4-ef09-82be9107e067"
      },
      "source": [
        "!kaggle datasets download -d umbertogriffo/googles-trained-word2vec-model-in-python"
      ],
      "execution_count": null,
      "outputs": [
        {
          "output_type": "stream",
          "text": [
            "Downloading googles-trained-word2vec-model-in-python.zip to /content\n",
            "100% 3.17G/3.17G [01:57<00:00, 22.7MB/s]\n",
            "100% 3.17G/3.17G [01:57<00:00, 28.9MB/s]\n"
          ],
          "name": "stdout"
        }
      ]
    },
    {
      "cell_type": "code",
      "metadata": {
        "colab": {
          "base_uri": "https://localhost:8080/"
        },
        "id": "CTBTUPFrzAXz",
        "outputId": "4d4b7fc8-d7fe-4006-b18a-177e87c50671"
      },
      "source": [
        "!unzip /content/googles-trained-word2vec-model-in-python.zip"
      ],
      "execution_count": null,
      "outputs": [
        {
          "output_type": "stream",
          "text": [
            "Archive:  /content/googles-trained-word2vec-model-in-python.zip\n",
            "  inflating: GoogleNews-vectors-negative300.bin  \n",
            "  inflating: GoogleNews-vectors-negative300.bin.gz  \n"
          ],
          "name": "stdout"
        }
      ]
    },
    {
      "cell_type": "markdown",
      "metadata": {
        "id": "60y5Ump02ckR"
      },
      "source": [
        "### **Load the model using Gensim**"
      ]
    },
    {
      "cell_type": "code",
      "metadata": {
        "id": "Dzo0OHWH0AkW"
      },
      "source": [
        "from gensim.models import KeyedVectors\n",
        "word_vectors = KeyedVectors.load_word2vec_format(\"/content/GoogleNews-vectors-negative300.bin\",binary=True)"
      ],
      "execution_count": null,
      "outputs": []
    },
    {
      "cell_type": "markdown",
      "metadata": {
        "id": "oZXUM4vS2npD"
      },
      "source": [
        "### **Using Gensim function to find analogies and neighbors**"
      ]
    },
    {
      "cell_type": "code",
      "metadata": {
        "id": "2O4BWc9l07QK"
      },
      "source": [
        "def find_analogies(w1, w2, w3):\n",
        "  r = word_vectors.most_similar(positive=[w1,w3], negative =[w2])\n",
        "  print(\"%s - %s = %s - %s\" % (w1, w2, r[0][0], w3))\n",
        "\n",
        "def nearest_neighbors(w):\n",
        "  r = word_vectors.most_similar(positive=[w])\n",
        "  print(\"neighbors of: %s\" % w )\n",
        "  for word, score in r:\n",
        "    print(\"\\t%s\" % word)"
      ],
      "execution_count": null,
      "outputs": []
    },
    {
      "cell_type": "code",
      "metadata": {
        "colab": {
          "base_uri": "https://localhost:8080/"
        },
        "id": "8IZaqwRm7qyO",
        "outputId": "5b7f4fd0-396a-4ab0-d31c-2ae505ac589c"
      },
      "source": [
        "find_analogies('king', 'man', 'woman')\n",
        "find_analogies('france', 'paris', 'london')\n",
        "find_analogies('france', 'paris', 'rome')\n",
        "find_analogies('paris', 'france', 'italy')\n",
        "find_analogies('france', 'french', 'english')\n",
        "find_analogies('japan', 'japanese', 'chinese')\n",
        "find_analogies('japan', 'japanese', 'italian')\n",
        "find_analogies('japan', 'japanese', 'australian')\n",
        "find_analogies('december', 'november', 'june')\n",
        "find_analogies('miami', 'florida', 'texas')\n",
        "find_analogies('einstein', 'scientist', 'painter')\n",
        "find_analogies('china', 'rice', 'bread')\n",
        "find_analogies('man', 'woman', 'she')\n",
        "find_analogies('man', 'woman', 'aunt')\n",
        "find_analogies('man', 'woman', 'sister')\n",
        "find_analogies('man', 'woman', 'wife')\n",
        "find_analogies('man', 'woman', 'actress')\n",
        "find_analogies('man', 'woman', 'mother')\n",
        "find_analogies('heir', 'heiress', 'princess')\n",
        "find_analogies('nephew', 'niece', 'aunt')\n",
        "find_analogies('france', 'paris', 'tokyo')\n",
        "find_analogies('france', 'paris', 'beijing')\n",
        "find_analogies('february', 'january', 'november')\n",
        "find_analogies('france', 'paris', 'rome')\n",
        "find_analogies('paris', 'france', 'italy')"
      ],
      "execution_count": null,
      "outputs": [
        {
          "output_type": "stream",
          "text": [
            "king - man = queen - woman\n",
            "france - paris = england - london\n",
            "france - paris = italy - rome\n",
            "paris - france = lohan - italy\n",
            "france - french = england - english\n",
            "japan - japanese = tibet - chinese\n",
            "japan - japanese = italy - italian\n",
            "japan - japanese = queensland - australian\n",
            "december - november = september - june\n",
            "miami - florida = dallas - texas\n",
            "einstein - scientist = jude - painter\n",
            "china - rice = dinnerware - bread\n",
            "man - woman = he - she\n",
            "man - woman = uncle - aunt\n",
            "man - woman = brother - sister\n",
            "man - woman = son - wife\n",
            "man - woman = actor - actress\n",
            "man - woman = father - mother\n",
            "heir - heiress = prince - princess\n",
            "nephew - niece = uncle - aunt\n",
            "france - paris = japan - tokyo\n",
            "france - paris = chinese - beijing\n",
            "february - january = april - november\n",
            "france - paris = italy - rome\n",
            "paris - france = lohan - italy\n"
          ],
          "name": "stdout"
        }
      ]
    },
    {
      "cell_type": "code",
      "metadata": {
        "colab": {
          "base_uri": "https://localhost:8080/"
        },
        "id": "kspuUNB28QlU",
        "outputId": "b1974365-af50-4beb-9c54-1bebadf71c63"
      },
      "source": [
        "nearest_neighbors('king')\n",
        "nearest_neighbors('france')\n",
        "nearest_neighbors('japan')\n",
        "nearest_neighbors('einstein')\n",
        "nearest_neighbors('woman')\n",
        "nearest_neighbors('nephew')\n",
        "nearest_neighbors('february')\n",
        "nearest_neighbors('rome')"
      ],
      "execution_count": null,
      "outputs": [
        {
          "output_type": "stream",
          "text": [
            "neighbors of: king\n",
            "\tkings\n",
            "\tqueen\n",
            "\tmonarch\n",
            "\tcrown_prince\n",
            "\tprince\n",
            "\tsultan\n",
            "\truler\n",
            "\tprinces\n",
            "\tPrince_Paras\n",
            "\tthrone\n",
            "neighbors of: france\n",
            "\tspain\n",
            "\tfrench\n",
            "\tgermany\n",
            "\teurope\n",
            "\titaly\n",
            "\tengland\n",
            "\teuropean\n",
            "\tbelgium\n",
            "\tusa\n",
            "\tserbia\n",
            "neighbors of: japan\n",
            "\tjapanese\n",
            "\ttokyo\n",
            "\tamerica\n",
            "\teurope\n",
            "\tgermany\n",
            "\tchinese\n",
            "\tindia\n",
            "\thawaii\n",
            "\tusa\n",
            "\tkorea\n",
            "neighbors of: einstein\n",
            "\tnikki\n",
            "\tlmfao\n",
            "\talbert\n",
            "\tarmstrong\n",
            "\tjoan\n",
            "\tbecky\n",
            "\tmcmahon\n",
            "\tconrad\n",
            "\tlori\n",
            "\thaley\n",
            "neighbors of: woman\n",
            "\tman\n",
            "\tgirl\n",
            "\tteenage_girl\n",
            "\tteenager\n",
            "\tlady\n",
            "\tteenaged_girl\n",
            "\tmother\n",
            "\tpolicewoman\n",
            "\tboy\n",
            "\tWoman\n",
            "neighbors of: nephew\n",
            "\tson\n",
            "\tuncle\n",
            "\tbrother\n",
            "\tgrandson\n",
            "\tcousin\n",
            "\tfather\n",
            "\tniece\n",
            "\tyounger_brother\n",
            "\tnephews\n",
            "\tstepson\n",
            "neighbors of: february\n",
            "\tjanuary\n",
            "\tapril\n",
            "\tseptember\n",
            "\tdecember\n",
            "\tjuly\n",
            "\toctober\n",
            "\tnovember\n",
            "\tjune\n",
            "\tfeb\n",
            "\tnorway\n",
            "neighbors of: rome\n",
            "\tathens\n",
            "\talbert\n",
            "\tholmes\n",
            "\tdonnie\n",
            "\titaly\n",
            "\ttoni\n",
            "\tspain\n",
            "\tjh\n",
            "\tpablo\n",
            "\tmalta\n"
          ],
          "name": "stdout"
        }
      ]
    }
  ]
}