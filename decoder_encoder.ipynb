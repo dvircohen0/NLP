{
  "nbformat": 4,
  "nbformat_minor": 0,
  "metadata": {
    "colab": {
      "name": "decoder_encoder.ipynb",
      "provenance": [],
      "collapsed_sections": [],
      "authorship_tag": "ABX9TyMf1FM8kBh/PE5a8Oii1VGV",
      "include_colab_link": true
    },
    "kernelspec": {
      "name": "python3",
      "display_name": "Python 3"
    },
    "accelerator": "GPU"
  },
  "cells": [
    {
      "cell_type": "markdown",
      "metadata": {
        "id": "view-in-github",
        "colab_type": "text"
      },
      "source": [
        "<a href=\"https://colab.research.google.com/github/dvircohen0/NLP/blob/main/decoder_encoder.ipynb\" target=\"_parent\"><img src=\"https://colab.research.google.com/assets/colab-badge.svg\" alt=\"Open In Colab\"/></a>"
      ]
    },
    {
      "cell_type": "code",
      "metadata": {
        "id": "MNf80roojvW9"
      },
      "source": [
        "import string\r\n",
        "import random\r\n",
        "import re\r\n",
        "import numpy as np\r\n",
        "import json \r\n",
        "import os\r\n",
        "import requests\r\n",
        "import matplotlib.pyplot as plt\r\n",
        "\r\n",
        "\r\n",
        "\r\n",
        "def random_dna_string_to_map():\r\n",
        "    dna=list(string.ascii_lowercase)\r\n",
        "    random_dna=list(dna)\r\n",
        "    random.shuffle(random_dna)\r\n",
        "    the_map ={}\r\n",
        "    for i,j in zip(dna,random_dna):\r\n",
        "         the_map[i] = j\r\n",
        "    return the_map\r\n",
        "       \r\n",
        "\r\n",
        "def encode_msg(msg, true_map):\r\n",
        "    encoded_msg =[]\r\n",
        "    for ch in msg:\r\n",
        "        encoded_ch = ch\r\n",
        "        if ch in true_map:\r\n",
        "            encoded_ch = true_map[ch]\r\n",
        "        encoded_msg.append(encoded_ch)\r\n",
        "    return ''.join(encoded_msg)\r\n",
        "\r\n",
        "def decode_msg(msg, a_map):\r\n",
        "    decoded_msg =[]\r\n",
        "    a_map=dict((v,k) for k, v in a_map.items())\r\n",
        "    for ch in msg:\r\n",
        "        decoded_ch = ch\r\n",
        "        if ch in a_map:\r\n",
        "            decoded_ch = a_map[ch]\r\n",
        "        decoded_msg.append(decoded_ch)\r\n",
        "    return ''.join(decoded_msg)\r\n",
        "\r\n",
        "\r\n",
        "### the language model\r\n",
        "\r\n",
        "letters=string.ascii_lowercase\r\n",
        "dim=len(letters)\r\n",
        "# initialize Markov matrix\r\n",
        "bigram = np.ones((dim, dim))\r\n",
        "\r\n",
        "# initial state distribution\r\n",
        "unigram = np.zeros(dim)\r\n",
        "\r\n",
        "# a function to update the Markov matrix\r\n",
        "def update_transition(ch1, ch2):\r\n",
        "  # ord('a') = 97, ord('b') = 98, ...\r\n",
        "  i = letters.index(ch1)\r\n",
        "  j = letters.index(ch2)\r\n",
        "  bigram[i,j] += 1\r\n",
        "\r\n",
        "# a function to update the initial state distribution\r\n",
        "def update_unigram(ch):\r\n",
        "  i = letters.index(ch)\r\n",
        "  unigram[i] += 1\r\n",
        "\r\n",
        "# get the log-probability of a word / token\r\n",
        "def get_word_prob(word):\r\n",
        "  # print(\"word:\", word)\r\n",
        "  i = letters.index(word[0])\r\n",
        "  logp = np.log(pi[i])\r\n",
        "\r\n",
        "  for ch in word[1:]:\r\n",
        "    j = letters.index(ch)\r\n",
        "    logp += np.log(bigram[i, j]) # update prob\r\n",
        "    i = j # update j\r\n",
        "  return logp\r\n",
        "\r\n",
        "# get the probability of a sequence of words\r\n",
        "def get_sequence_prob(words):\r\n",
        "  # if input is a string, split into an array of tokens\r\n",
        "  if type(words) == str:\r\n",
        "    words = words.split()\r\n",
        "\r\n",
        "  logp = 0\r\n",
        "  for word in words:\r\n",
        "    logp += get_word_prob(word)\r\n",
        "  return logp\r\n",
        "\r\n",
        "\r\n",
        "# download the file\r\n",
        "if not os.path.exists('moby_dick.txt'):\r\n",
        "  print(\"Downloading moby dick...\")\r\n",
        "  r = requests.get('https://lazyprogrammer.me/course_files/moby_dick.txt')\r\n",
        "  with open('moby_dick.txt', 'w') as f:\r\n",
        "    f.write(r.content.decode())\r\n",
        "# for replacing non-alpha characters\r\n",
        "regex = re.compile('[^a-zA-Z]')\r\n",
        "\r\n",
        "# load in words\r\n",
        "for line in open('moby_dick.txt'):\r\n",
        "  line = line.rstrip()\r\n",
        "\r\n",
        "  # there are blank lines in the file\r\n",
        "  if line:\r\n",
        "    line = regex.sub(' ', line) # replace all non-alpha characters with space\r\n",
        "\r\n",
        "    # split the tokens in the line and lowercase\r\n",
        "    tokens = line.lower().split()\r\n",
        "\r\n",
        "    for token in tokens:\r\n",
        "      # update the model\r\n",
        "\r\n",
        "      # first letter\r\n",
        "      ch0 = token[0]\r\n",
        "      update_unigram(ch0)\r\n",
        "\r\n",
        "      # other letters\r\n",
        "      for ch1 in token[1:]:\r\n",
        "        update_transition(ch0, ch1)\r\n",
        "        ch0 = ch1\r\n",
        "\r\n",
        "# normalize the probabilities\r\n",
        "unigram /= unigram.sum()\r\n",
        "bigram /= (bigram.sum(axis=1, keepdims=True) + 26)"
      ],
      "execution_count": 48,
      "outputs": []
    },
    {
      "cell_type": "code",
      "metadata": {
        "colab": {
          "base_uri": "https://localhost:8080/"
        },
        "id": "gnBtevN7kJ3q",
        "outputId": "11f11e51-94a3-42f8-c5f6-ae59ebd85057"
      },
      "source": [
        "original_msg ='''I then lounged down the street and found,\r\n",
        "as I expected, that there was a mews in a lane which runs down\r\n",
        "by one wall of the garden. I lent the ostlers a hand in rubbing\r\n",
        "down their horses, and received in exchange twopence, a glass of\r\n",
        "half-and-half, two fills of shag tobacco, and as much information\r\n",
        "as I could desire about Miss Adler, to say nothing of half a dozen\r\n",
        "other people in the neighbourhood in whom I was not in the least\r\n",
        "interested, but whose biographies I was compelled to listen to.\r\n",
        "'''\r\n",
        "\r\n",
        "\r\n",
        "original_msg = original_msg.rstrip()\r\n",
        "original_msg=re.sub(\"[’]\",\"\",original_msg)\r\n",
        "regex = re.compile('[^a-zA-Z]')\r\n",
        "original_msg= regex.sub(\" \",original_msg).lower()\r\n",
        "original_msg=re.sub(\"\\s\\s+\" , \" \", original_msg)\r\n",
        "true_map =random_dna_string_to_map()\r\n",
        "encoded_msg = encode_msg(original_msg, true_map)\r\n",
        "\r\n",
        "dna_pool = []\r\n",
        "for _ in range(20):\r\n",
        "    dna_pool.append(random_dna_string_to_map())\r\n",
        "\r\n",
        "def evolve_ofspring(dna_pool, n_childeren):\r\n",
        "    offspring = []\r\n",
        "    for dna in dna_pool:\r\n",
        "        for _ in range(n_childeren):\r\n",
        "            copy = dna.copy()\r\n",
        "            key1, key2 = random.sample(list(copy), 2)\r\n",
        "            copy[key1], copy[key2] = copy[key2], copy[key1]\r\n",
        "            offspring.append(copy)\r\n",
        "    return dna_pool + offspring\r\n",
        "            \r\n",
        "num_itters = 1000\r\n",
        "scores = np.zeros(num_itters)\r\n",
        "best_dna = None\r\n",
        "best_map = None\r\n",
        "best_score = float('-inf')\r\n",
        "\r\n",
        "\r\n",
        "for i in range(num_itters):\r\n",
        "    if i > 0:\r\n",
        "        dna_pool = evolve_ofspring(dna_pool, 3)\r\n",
        "        \r\n",
        "    dna2score = {}\r\n",
        "    for dna in dna_pool:\r\n",
        "        current_map = dna\r\n",
        "        decoded_msg = decode_msg(encoded_msg, current_map)\r\n",
        "        score = sentence_prob(decoded_msg,unigram,bigram)\r\n",
        "        dna2score[str(current_map)] = score\r\n",
        "        if score > best_score:\r\n",
        "            best_dna = dna\r\n",
        "            best_map = current_map\r\n",
        "            best_score = score\r\n",
        "            \r\n",
        "    scores[i] = np.mean(list(dna2score.values()))\r\n",
        "    sorted_dna = sorted(dna2score.items(), key=lambda x: x[1], reverse = True)\r\n",
        "    dna_pool1 = sorted_dna [:5]\r\n",
        "    dna_pool=[json.loads(dna_pool1[i][0].replace(\"\\'\", \"\\\"\")) for i in range(len(dna_pool1))]\r\n",
        "    \r\n",
        "    if i % 200 == 0:\r\n",
        "        print(\"itter: \", i , \" score:\", scores[i], \"best so far:\", best_score)"
      ],
      "execution_count": 31,
      "outputs": [
        {
          "output_type": "stream",
          "text": [
            "itter:  0  score: -2088.0586255029193 best so far: -1698.9771817047524\n",
            "itter:  200  score: -1029.0689419456746 best so far: -940.5149309617009\n",
            "itter:  400  score: -1002.6153427755011 best so far: -929.8602611042709\n",
            "itter:  600  score: -1037.1627409961955 best so far: -929.8602611042709\n",
            "itter:  800  score: -1026.074491461662 best so far: -929.8602611042709\n"
          ],
          "name": "stdout"
        }
      ]
    },
    {
      "cell_type": "code",
      "metadata": {
        "colab": {
          "base_uri": "https://localhost:8080/"
        },
        "id": "oPJYLc4sqDOU",
        "outputId": "7d9580b2-4c23-4340-bf65-ee5d62cf06f0"
      },
      "source": [
        "decoded_msg = decode_msg(encoded_msg, best_map)\r\n",
        "print(\"score for beat map: \",sentence_prob(decoded_msg,unigram,bigram))\r\n",
        "print(\"score for originl massage: \",sentence_prob(original_msg,unigram,bigram))\r\n",
        "\r\n",
        "for key, v in true_map.items():\r\n",
        "  pred = best_map[key]\r\n",
        "  if v != pred:\r\n",
        "    print(\"true map for %s: %s, pred: %s\" % (key, v, pred))\r\n",
        "\r\n",
        "\r\n",
        "# print the final decoded message\r\n",
        "print(\"Decoded message:\\n\", decoded_msg)\r\n",
        "\r\n",
        "print(\"\\nTrue message:\\n\", original_msg)"
      ],
      "execution_count": 46,
      "outputs": [
        {
          "output_type": "stream",
          "text": [
            "score for beat map:  -929.8602611042709\n",
            "score for originl massage:  -933.3362360694747\n",
            "true map for j: r, pred: e\n",
            "true map for k: w, pred: t\n",
            "true map for q: e, pred: r\n",
            "true map for z: t, pred: w\n",
            "Decoded message:\n",
            " i then lounged down the street and found as i expected that there was a mews in a lane which runs down by one wall of the garden i lent the ostlers a hand in rubbing down their horses and received in exchange twopence a glass of half and half two fills of shag tobacco and as much information as i could desire about miss adler to say nothing of half a doken other people in the neighbourhood in whom i was not in the least interested but whose biographies i was compelled to listen to \n",
            "\n",
            "True message:\n",
            " i then lounged down the street and found as i expected that there was a mews in a lane which runs down by one wall of the garden i lent the ostlers a hand in rubbing down their horses and received in exchange twopence a glass of half and half two fills of shag tobacco and as much information as i could desire about miss adler to say nothing of half a dozen other people in the neighbourhood in whom i was not in the least interested but whose biographies i was compelled to listen to \n"
          ],
          "name": "stdout"
        }
      ]
    },
    {
      "cell_type": "code",
      "metadata": {
        "colab": {
          "base_uri": "https://localhost:8080/",
          "height": 265
        },
        "id": "n2u_wChaLF1B",
        "outputId": "fdcbed1e-1178-4760-b822-e3164d5a7361"
      },
      "source": [
        "plt.plot(scores)\r\n",
        "plt.show()"
      ],
      "execution_count": 49,
      "outputs": [
        {
          "output_type": "display_data",
          "data": {
            "image/png": "[encoded data removed]",
            "text/plain": [
              "<Figure size 432x288 with 1 Axes>"
            ]
          },
          "metadata": {
            "tags": [],
            "needs_background": "light"
          }
        }
      ]
    }
  ]
}